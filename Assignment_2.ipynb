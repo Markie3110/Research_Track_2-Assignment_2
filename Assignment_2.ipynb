{
 "cells": [
  {
   "cell_type": "markdown",
   "id": "f0aa3d72",
   "metadata": {},
   "source": [
    "## Imports, Variable Initializations and Function Declarations"
   ]
  },
  {
   "cell_type": "code",
   "execution_count": null,
   "id": "9f7f4bd1",
   "metadata": {
    "ExecuteTime": {
     "end_time": "2024-05-31T06:03:51.651848Z",
     "start_time": "2024-05-31T06:03:50.593035Z"
    }
   },
   "outputs": [],
   "source": [
    "# Import the necessary packages\n",
    "%matplotlib widget\n",
    "import rospy\n",
    "import actionlib\n",
    "import numpy as np\n",
    "import ipywidgets as widgets\n",
    "from IPython.display import display\n",
    "from ipywidgets import GridspecLayout, Layout\n",
    "import matplotlib.pyplot as plt\n",
    "from geometry_msgs.msg import Vector3\n",
    "from assignment_2_2023.msg import PlanningAction, PlanningGoal, PlanningActionResult\n",
    "from nav_msgs.msg import Odometry\n",
    "\n",
    "# Declare the global variables\n",
    "x_data = []\n",
    "y_data = []\n",
    "x_target = None\n",
    "y_target = None\n",
    "\n",
    "# Initialize the reached and cancelled target counts\n",
    "reached_targets = 0\n",
    "cancelled_targets = 0\n",
    "\n",
    "# Variables to be used while plotting data\n",
    "counter = 0\n",
    "robot_active = False\n",
    "\n",
    "# Initialize the action client \n",
    "target = PlanningGoal()\n",
    "client = actionlib.SimpleActionClient('/reaching_goal', PlanningAction)"
   ]
  },
  {
   "cell_type": "code",
   "execution_count": null,
   "id": "f28e137b",
   "metadata": {
    "ExecuteTime": {
     "end_time": "2024-05-31T06:03:51.674497Z",
     "start_time": "2024-05-31T06:03:51.653329Z"
    }
   },
   "outputs": [],
   "source": [
    "# Declare the widgets to be used in the UI\n",
    "\n",
    "# Declare the input textboxes\n",
    "x_pos = widgets.FloatText(\n",
    "    description='X_Position:',\n",
    "    disabled=False\n",
    ")\n",
    "y_pos = widgets.FloatText(\n",
    "    description='Y_Position:',\n",
    "    disabled=False\n",
    ")\n",
    "\n",
    "# Declare the buttons\n",
    "send_goal = widgets.Button(\n",
    "    description='Send Goal',\n",
    "    disabled=False,\n",
    "    tooltip='Send the goal to gazebo',\n",
    ")\n",
    "cancel_goal = widgets.Button(\n",
    "    description='Cancel Goal',\n",
    "    disabled=False,\n",
    "    tooltip='Cancel the latest goal sent to gazebo',\n",
    ")\n",
    "\n",
    "# Declare the output textbox\n",
    "caption = widgets.Label(value='OUTPUT TERMINAL')\n",
    "out = widgets.Output(layout= Layout(height='150px', border='1px solid black', overflow_y='scroll'))"
   ]
  },
  {
   "cell_type": "code",
   "execution_count": null,
   "id": "30e0132b",
   "metadata": {
    "ExecuteTime": {
     "end_time": "2024-05-31T06:03:51.688690Z",
     "start_time": "2024-05-31T06:03:51.678367Z"
    }
   },
   "outputs": [],
   "source": [
    "# Declare the callback function for the goal button\n",
    "def on_goal_button_clicked(b):\n",
    "    global x_data, y_data, robot_active\n",
    "    x_data = []\n",
    "    y_data = []\n",
    "    ax[0].clear()\n",
    "    ax[0].set_xlim(-10, 10)\n",
    "    ax[0].set_ylim(-10, 10)\n",
    "    ax[0].set_xlabel('X_position')\n",
    "    ax[0].set_ylabel('Y_position')\n",
    "    ax[0].set_title('Robot and Target Positions')\n",
    "    robot_active = True\n",
    "    update_target(x_pos.value, y_pos.value)\n",
    "    target.target_pose.pose.position.x = x_pos.value\n",
    "    target.target_pose.pose.position.y = y_pos.value\n",
    "    client.send_goal(target)\n",
    "    with out:\n",
    "        print('[INFO] GOAL SET TO: ({0},{1})'.format(x_pos.value, y_pos.value))"
   ]
  },
  {
   "cell_type": "code",
   "execution_count": null,
   "id": "26fbdfc4",
   "metadata": {
    "ExecuteTime": {
     "end_time": "2024-05-31T06:03:51.708719Z",
     "start_time": "2024-05-31T06:03:51.691281Z"
    }
   },
   "outputs": [],
   "source": [
    "# Declare the callback function for the cancel button\n",
    "def on_cancel_button_clicked(b):\n",
    "    with out:\n",
    "        print('[INFO] LATEST GOAL CANCELLED')\n",
    "    client.cancel_goal()"
   ]
  },
  {
   "cell_type": "code",
   "execution_count": null,
   "id": "6aa7bfcb",
   "metadata": {
    "ExecuteTime": {
     "end_time": "2024-05-31T06:03:51.723780Z",
     "start_time": "2024-05-31T06:03:51.711020Z"
    }
   },
   "outputs": [],
   "source": [
    "# Declare the functions to be used in plotting \n",
    "\n",
    "# Function to plot robot position\n",
    "def plot(x_data, y_data):\n",
    "    np_x_data = np.array(x_data)\n",
    "    np_y_data = np.array(y_data)\n",
    "    ax[0].plot(np_x_data, np_y_data)\n",
    "    fig.canvas.draw()\n",
    "    \n",
    "# Function to plot the target position    \n",
    "def update_target(x_target, y_target):\n",
    "    if x_target is not None and y_target is not None:\n",
    "        for line in ax[0].lines:\n",
    "            if line.get_label() == 'Target':\n",
    "                line.remove()\n",
    "        ax[0].plot(x_target, y_target, 'gx', label='Target')\n",
    "        ax[0].legend(loc='upper left')\n",
    "        fig.canvas.draw()\n",
    "\n",
    "# Function to plot the number of reached and cancelled targets\n",
    "def plot_targets(reached_targets, cancelled_targets):\n",
    "    targets = ['Target Reached', 'Target Cancelled']\n",
    "    count = [reached_targets, cancelled_targets]\n",
    "    color = ['green', 'red']\n",
    "    ax[1].bar(targets, count, color=color)\n",
    "    fig.canvas.draw()"
   ]
  },
  {
   "cell_type": "code",
   "execution_count": null,
   "id": "c6769742",
   "metadata": {
    "ExecuteTime": {
     "end_time": "2024-05-31T06:03:51.747759Z",
     "start_time": "2024-05-31T06:03:51.726987Z"
    }
   },
   "outputs": [],
   "source": [
    "# Declare the callback function for the subscriber to /reaching/goal \n",
    "# that updates the reached or cancel count\n",
    "def target_status_callback(msg):\n",
    "    global robot_active, reached_targets, cancelled_targets\n",
    "    target_status = msg.status.status\n",
    "    if (target_status == 3):\n",
    "        reached_targets = reached_targets + 1\n",
    "        robot_active = False\n",
    "    elif (target_status == 2):\n",
    "        cancelled_targets = cancelled_targets + 1\n",
    "        robot_active = False\n",
    "    plot_targets(reached_targets, cancelled_targets)"
   ]
  },
  {
   "cell_type": "code",
   "execution_count": null,
   "id": "3e74def1",
   "metadata": {
    "ExecuteTime": {
     "end_time": "2024-05-31T06:03:51.762148Z",
     "start_time": "2024-05-31T06:03:51.749351Z"
    }
   },
   "outputs": [],
   "source": [
    "# Callback function for the subscriber to /odom\n",
    "def odom_callback(msg):\n",
    "    global counter\n",
    "    counter = counter + 1\n",
    "    x_data.append(round(msg.pose.pose.position.x,2))\n",
    "    y_data.append(round(msg.pose.pose.position.y,2))\n",
    "    if ((counter % 15 == 0) and (robot_active == True)):\n",
    "        plot(x_data, y_data)"
   ]
  },
  {
   "cell_type": "markdown",
   "id": "c4107e65",
   "metadata": {},
   "source": [
    "## User Interface"
   ]
  },
  {
   "cell_type": "code",
   "execution_count": null,
   "id": "88d37ef0",
   "metadata": {
    "ExecuteTime": {
     "end_time": "2024-05-31T06:03:51.942960Z",
     "start_time": "2024-05-31T06:03:51.763965Z"
    }
   },
   "outputs": [],
   "source": [
    "# Initialize the rosnode \n",
    "rospy.init_node('UI_JUpyter')\n",
    "\n",
    "# Declare the required subscribers\n",
    "sub_odom = rospy.Subscriber('/odom', Odometry, odom_callback)\n",
    "sub_goals = rospy.Subscriber('/reaching_goal/result', PlanningActionResult, target_status_callback)\n",
    "\n",
    "# Declare the callbacks for the buttons\n",
    "send_goal.on_click(on_goal_button_clicked)\n",
    "cancel_goal.on_click(on_cancel_button_clicked)\n",
    "\n",
    "# Specify the UI layout\n",
    "grid = GridspecLayout(2, 2, width='800px')\n",
    "grid[0, 0] = widgets.VBox([x_pos, y_pos])\n",
    "grid[1, 0] = widgets.HBox([send_goal, cancel_goal])\n",
    "grid[0:1, 1] = widgets.VBox([caption, out])\n",
    "display(grid)"
   ]
  },
  {
   "cell_type": "markdown",
   "id": "91ddf2eb",
   "metadata": {},
   "source": [
    "## Position and Target Plots"
   ]
  },
  {
   "cell_type": "code",
   "execution_count": null,
   "id": "64cc0cee",
   "metadata": {
    "ExecuteTime": {
     "end_time": "2024-05-31T06:03:52.211414Z",
     "start_time": "2024-05-31T06:03:51.948752Z"
    }
   },
   "outputs": [],
   "source": [
    "# Declare the plots\n",
    "fig, ax = plt.subplots(2, 1, figsize=(10,10))\n",
    "\n",
    "# Plot for robot and target position\n",
    "ax[0].set_xlim(-10, 10)\n",
    "ax[0].set_ylim(-10, 10)\n",
    "ax[0].set_xlabel('X_position')\n",
    "ax[0].set_ylabel('Y_position')\n",
    "ax[0].set_title('Robot and Target Positions')\n",
    "np_x_data = np.array(x_data)\n",
    "np_y_data = np.array(y_data)\n",
    "ax[0].plot(np_x_data, np_y_data)\n",
    "\n",
    "# Define a space between the plots\n",
    "plt.subplots_adjust(hspace=0.3)\n",
    "\n",
    "# Plot for reached and cancelled targets\n",
    "targets = ['Target Reached', 'Target Cancelled']\n",
    "count = [reached_targets, cancelled_targets]\n",
    "color = ['green', 'red']\n",
    "ax[1].set_ylim(0,20)\n",
    "ax[1].bar(targets, count, color=color)\n",
    "ax[1].set_ylabel('Count')\n",
    "ax[1].set_title('Status of Targets')"
   ]
  }
 ],
 "metadata": {
  "kernelspec": {
   "display_name": "Python 3 (ipykernel)",
   "language": "python",
   "name": "python3"
  },
  "language_info": {
   "codemirror_mode": {
    "name": "ipython",
    "version": 3
   },
   "file_extension": ".py",
   "mimetype": "text/x-python",
   "name": "python",
   "nbconvert_exporter": "python",
   "pygments_lexer": "ipython3",
   "version": "3.10.12"
  },
  "toc": {
   "base_numbering": 1,
   "nav_menu": {},
   "number_sections": true,
   "sideBar": true,
   "skip_h1_title": false,
   "title_cell": "Table of Contents",
   "title_sidebar": "Contents",
   "toc_cell": false,
   "toc_position": {},
   "toc_section_display": true,
   "toc_window_display": false
  },
  "varInspector": {
   "cols": {
    "lenName": 16,
    "lenType": 16,
    "lenVar": 40
   },
   "kernels_config": {
    "python": {
     "delete_cmd_postfix": "",
     "delete_cmd_prefix": "del ",
     "library": "var_list.py",
     "varRefreshCmd": "print(var_dic_list())"
    },
    "r": {
     "delete_cmd_postfix": ") ",
     "delete_cmd_prefix": "rm(",
     "library": "var_list.r",
     "varRefreshCmd": "cat(var_dic_list()) "
    }
   },
   "types_to_exclude": [
    "module",
    "function",
    "builtin_function_or_method",
    "instance",
    "_Feature"
   ],
   "window_display": false
  }
 },
 "nbformat": 4,
 "nbformat_minor": 5
}
